{
 "cells": [
  {
   "cell_type": "code",
   "execution_count": 1,
   "metadata": {},
   "outputs": [],
   "source": [
    "from Lyapunov import *\n",
    "from dynamics_toolkit import *\n",
    "import numpy as np\n",
    "import matplotlib.pyplot as plt\n",
    "%matplotlib inline\n",
    "from mpl_toolkits.mplot3d import Axes3D\n",
    "from scipy.integrate import odeint, solve_ivp, ode\n",
    "from tqdm import tqdm\n",
    "from torch.autograd.functional import jacobian\n",
    "from torch import tensor, dot, matmul, transpose, stack, log\n",
    "from scipy.linalg import block_diag, circulant\n",
    "from scipy.stats import dirichlet, multivariate_normal\n",
    "from scipy.special import xlogy\n",
    "from itertools import product, combinations"
   ]
  },
  {
   "cell_type": "code",
   "execution_count": 2,
   "metadata": {},
   "outputs": [],
   "source": [
    "def replicator1(x,t,A,B):\n",
    "    dx = np.zeros(6)\n",
    "    dx[:3] = x[:3] * (A @ x[3:] - (np.transpose(x[:3]) @ (A@x[3:])))\n",
    "    dx[3:] = x[3:] * (B.T @ x[:3] - (np.transpose(x[:3]) @ (B@x[3:])))\n",
    "    return dx\n",
    "\n",
    "def adaptation1(x,t,A,B,alpha1,alpha2):\n",
    "    dx = np.zeros(6)\n",
    "    dx[:3] = x[:3] * (A @ x[3:] - (np.transpose(x[:3]) @ (A@x[3:])) + alpha1 * (-np.log(x[:3]) + np.sum(xlogy(x[:3], x[:3]))))\n",
    "    dx[3:] = x[3:] * (B.T @ x[:3] - (np.transpose(x[:3]) @ (B@x[3:]))) + alpha2 * (-np.log(x[3:]) + np.sum(xlogy(x[3:], x[3:])))\n",
    "    return dx"
   ]
  },
  {
   "cell_type": "code",
   "execution_count": 3,
   "metadata": {},
   "outputs": [],
   "source": [
    "epsilonx = 0.5\n",
    "epsilony = -0.3\n",
    "A = np.array([[epsilonx, 1, -1], [-1, epsilonx, 1], [1, -1, epsilonx]])\n",
    "B = np.array([[epsilony, 1, -1], [-1, epsilony, 1], [1, -1, epsilony]])"
   ]
  },
  {
   "cell_type": "code",
   "execution_count": 8,
   "metadata": {},
   "outputs": [],
   "source": [
    "ts = np.linspace(0,40,401)\n",
    "x_int = np.array([0.26,0.113333,0.626667,0.165,0.772549,0.062451])\n",
    "xt_adaptive = odeint(adaptation1, x_int, ts, args=((A,B.T,0.025,0.01)))\n",
    "# xt_adaptive_sol = solve_ivp(replicator1, [0, ts[-1]], y0=x_int, method='RK45', t_eval=ts, args=((A,B.T))) "
   ]
  },
  {
   "cell_type": "code",
   "execution_count": 9,
   "metadata": {},
   "outputs": [
    {
     "data": {
      "text/plain": [
       "[<matplotlib.lines.Line2D at 0x2987d554ec8>]"
      ]
     },
     "execution_count": 9,
     "metadata": {},
     "output_type": "execute_result"
    },
    {
     "data": {
      "image/png": "[encoded data removed]",
      "text/plain": [
       "<Figure size 504x504 with 1 Axes>"
      ]
     },
     "metadata": {
      "needs_background": "light"
     },
     "output_type": "display_data"
    }
   ],
   "source": [
    "orbit = proj_6D_2D(xt_adaptive.T)\n",
    "fig, ax = initial_6D_2D_figure(figsize=(7,7))\n",
    "ax.plot(orbit[0,:], orbit[1,:], linewidth=.7)"
   ]
  },
  {
   "cell_type": "code",
   "execution_count": 31,
   "metadata": {},
   "outputs": [
    {
     "data": {
      "text/plain": [
       "2362063382134662.0"
      ]
     },
     "execution_count": 31,
     "metadata": {},
     "output_type": "execute_result"
    }
   ],
   "source": [
    "orbit.max()"
   ]
  },
  {
   "cell_type": "code",
   "execution_count": null,
   "metadata": {},
   "outputs": [],
   "source": [
    "xlogy()"
   ]
  }
 ],
 "metadata": {
  "kernelspec": {
   "display_name": "Python 3",
   "language": "python",
   "name": "python3"
  },
  "language_info": {
   "codemirror_mode": {
    "name": "ipython",
    "version": 3
   },
   "file_extension": ".py",
   "mimetype": "text/x-python",
   "name": "python",
   "nbconvert_exporter": "python",
   "pygments_lexer": "ipython3",
   "version": "3.7.4"
  }
 },
 "nbformat": 4,
 "nbformat_minor": 2
}
