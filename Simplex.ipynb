{
 "cells": [
  {
   "cell_type": "markdown",
   "metadata": {},
   "source": [
    "**Preparation and necessary tools**"
   ]
  },
  {
   "cell_type": "code",
   "execution_count": 1,
   "metadata": {},
   "outputs": [],
   "source": [
    "import numpy as np\n",
    "import matplotlib.pyplot as plt\n",
    "%matplotlib inline\n",
    "from scipy.integrate import odeint\n",
    "from itertools import product, combinations"
   ]
  },
  {
   "cell_type": "markdown",
   "metadata": {},
   "source": [
    "Function transforming array of 3D points onto 2D simplex."
   ]
  },
  {
   "cell_type": "code",
   "execution_count": 49,
   "metadata": {},
   "outputs": [],
   "source": [
    "proj = np.array(\n",
    "    [[-1 * np.cos(30. / 360. * 2. * np.pi),np.cos(30. / 360. * 2. * np.pi), 0.],\n",
    "     [-1 * np.sin(30. / 360. * 2. * np.pi),-1 * np.sin(30. / 360. * 2. * np.pi), 1.]])\n",
    "\n",
    "def proj_3D_simplex(array_to_be_transformed):\n",
    "    proj_mat = np.array(\n",
    "    [[-1 * np.cos(30. / 360. * 2. * np.pi),np.cos(30. / 360. * 2. * np.pi), 0.],\n",
    "     [-1 * np.sin(30. / 360. * 2. * np.pi),-1 * np.sin(30. / 360. * 2. * np.pi), 1.]])\n",
    "    return proj_mat @ array_to_be_transformed"
   ]
  },
  {
   "cell_type": "markdown",
   "metadata": {},
   "source": [
    "Function for drawing lines."
   ]
  },
  {
   "cell_type": "code",
   "execution_count": 50,
   "metadata": {},
   "outputs": [],
   "source": [
    "def draw_line(start, end, points=1000):\n",
    "    '''\n",
    "    Return array of points on a line segemnt.\n",
    "    \n",
    "    Parameters\n",
    "    ----------\n",
    "    start : array_like\n",
    "        starting point\n",
    "    end : array_like\n",
    "        end point\n",
    "    points : int, optional\n",
    "        number of points included in the array, including start and end points\n",
    "        \n",
    "        \n",
    "    Return\n",
    "    ------\n",
    "    array of point on the line, with row index being coordinate index and column index being index of points.\n",
    "    '''\n",
    "    \n",
    "    # ts = 0 represents starting point, ts = 1 represents end point.\n",
    "    ts = np.array([np.linspace(0,1,points)])\n",
    "    \n",
    "    start_reshaped = np.array(start).reshape((3,1))\n",
    "    end_reshaped = np.array(end).reshape((3,1))\n",
    "    \n",
    "    return start_reshaped + ((end_reshaped - start_reshaped) @ ts)"
   ]
  },
  {
   "cell_type": "markdown",
   "metadata": {},
   "source": [
    "Draw triangle."
   ]
  },
  {
   "cell_type": "code",
   "execution_count": 51,
   "metadata": {},
   "outputs": [],
   "source": [
    "# project the boundary on the simplex onto the boundary of the triangle\n",
    "PBd21 = proj@draw_line([0,1,0], [1,0,0], 2)\n",
    "PBd32 = proj@draw_line([0,0,1], [0,1,0], 2)\n",
    "PBd31 = proj@draw_line([0,0,1], [1,0,0], 2)"
   ]
  },
  {
   "cell_type": "code",
   "execution_count": 126,
   "metadata": {},
   "outputs": [],
   "source": [
    "def initial_figure(vertex_label = True):\n",
    "    \n",
    "    ax.axis(\"off\")\n",
    "    \n",
    "    ax.plot(PBd21[0], PBd21[1], color='black', linewidth=3)\n",
    "    ax.plot(PBd32[0], PBd32[1], color='black', linewidth=3)\n",
    "    ax.plot(PBd31[0], PBd31[1], color='black', linewidth=3)\n",
    "    \n",
    "    if vertex_label:\n",
    "        ax.text(-0.8660254-0.1, -0.5 +0.05 , \"$e_1$\",fontsize=12)\n",
    "        ax.text(+0.8660254+0.05, -0.5 +0.05 , \"$e_2$\",fontsize=12)\n",
    "        ax.text(0-0.03, 1 +0.1 , \"$e_3$\",fontsize=12)\n",
    "    return fig, ax"
   ]
  },
  {
   "cell_type": "markdown",
   "metadata": {},
   "source": [
    "Plot \n",
    "$\\dot{P}/P = 1 - 5(x_1x_2 + x_2x_3 + x_3x_4 + x_4x_5 + x_5x_1)$, restricting $x_4 = x_5 = 0.25$ (i.e. the simplex $x_1 + x_2 + x_3 = 0.5)$. On the simplex, the function equals to $1-5(x_1 x_2 + x_2 x_3 + 0.25x_3 + 0.0625 + 0.25x_1)$\n"
   ]
  },
  {
   "cell_type": "code",
   "execution_count": 65,
   "metadata": {},
   "outputs": [],
   "source": [
    "# Constructing 2D meshes\n",
    "mesh = np.array(list(product(np.linspace(0,1,101), np.linspace(0,1,101)))).T\n",
    "\n",
    "# Filtering points with sum of coordinates > 0.5\n",
    "mesh = mesh[:,mesh[0] + mesh[1] <= 0.5]\n",
    "\n",
    "# computing the third value\n",
    "mesh = np.vstack((mesh, 0.5 - mesh[0] - mesh[1]))\n",
    "\n",
    "# evaluate the point\n",
    "Phi_arr = 1-5*(mesh[0]*mesh[1] + mesh[1]*mesh[2] + 0.25*mesh[0] + 0.25*mesh[2] + 0.0625)\n",
    "\n",
    "# coloring\n",
    "color = np.ones(mesh.shape[1])\n",
    "color[Phi_arr >= 0] = 0"
   ]
  },
  {
   "cell_type": "code",
   "execution_count": 95,
   "metadata": {},
   "outputs": [
    {
     "data": {
      "text/plain": [
       "<matplotlib.collections.PathCollection at 0x15459a3dcc8>"
      ]
     },
     "execution_count": 95,
     "metadata": {},
     "output_type": "execute_result"
    },
    {
     "data": {
      "image/png": "[encoded data removed]",
      "text/plain": [
       "<Figure size 432x288 with 1 Axes>"
      ]
     },
     "metadata": {
      "needs_background": "light"
     },
     "output_type": "display_data"
    }
   ],
   "source": [
    "plt.axis(\"off\")\n",
    "\n",
    "plt.plot(0.5*PBd21[0], 0.5*PBd21[1], color='black', linewidth=5)\n",
    "plt.plot(0.5*PBd32[0], 0.5*PBd32[1], color='black', linewidth=5)\n",
    "plt.plot(0.5*PBd31[0], 0.5*PBd31[1], color='black', linewidth=5)\n",
    "\n",
    "\n",
    "plt.text(-0.8660254/2-0.1, -0.4+0.05 , \"$0.5e_1$\",fontsize=12)\n",
    "plt.text(+0.8660254/2-0.05, -0.4+0.05 , \"$0.5e_2$\",fontsize=12)\n",
    "plt.text(0-0.05, 0.5+0.05 , \"$0.5e_3$\",fontsize=12)\n",
    "\n",
    "plt.scatter(proj_3D_simplex(mesh)[0], proj_3D_simplex(mesh)[1], c = color)\n",
    "# plt.colorbar()\n",
    "# plt.rcParams['axes.titley'] = 1.0 \n",
    "# plt.title(\"Value of $\\dot{P}/P$ on cross-section $x_1+x_2+x_3=0.5, x_4=x_5=0.25$\", x=0.5, y=1.1)\n",
    "# plt.savefig(\"Phi_on_cross_section\")"
   ]
  },
  {
   "cell_type": "code",
   "execution_count": null,
   "metadata": {},
   "outputs": [],
   "source": []
  },
  {
   "cell_type": "code",
   "execution_count": 40,
   "metadata": {},
   "outputs": [
    {
     "data": {
      "image/png": "[encoded data removed]",
      "text/plain": [
       "<Figure size 1296x360 with 3 Axes>"
      ]
     },
     "metadata": {
      "needs_background": "light"
     },
     "output_type": "display_data"
    }
   ],
   "source": [
    "fig, ax = plt.subplots(nrows=1, ncols=3, figsize=(18,5))\n",
    "\n",
    "n_arr = [3,4,5]\n",
    "\n",
    "for i in range(3):\n",
    "    n = n_arr[i]\n",
    "    roots = np.roots([1,] + [0,]*(n-1) + [-1,])\n",
    "    \n",
    "    for root in roots[:-1]:\n",
    "        ax[i].arrow(0,0,root.real,root.imag, length_includes_head=True, head_width=0.07)\n",
    "        ax[i].set_xlim([-1.5,1.5])\n",
    "        ax[i].set_ylim([-1.5,1.5])\n",
    "        ax[i].set_xlabel(\"Re\")\n",
    "        ax[i].set_ylabel(\"Im\")\n",
    "        ax[i].set_title(f\"n={n}\")\n",
    "        ax[i].axvspan(-1.5, 0, color='blue', alpha=0.1)\n",
    "        ax[i].hlines([0], xmin=-1.5, xmax=1.5)\n",
    "        \n",
    "# plt.savefig(\"hypercycle_roots\")"
   ]
  },
  {
   "cell_type": "code",
   "execution_count": null,
   "metadata": {},
   "outputs": [],
   "source": []
  }
 ],
 "metadata": {
  "kernelspec": {
   "display_name": "Python 3",
   "language": "python",
   "name": "python3"
  },
  "language_info": {
   "codemirror_mode": {
    "name": "ipython",
    "version": 3
   },
   "file_extension": ".py",
   "mimetype": "text/x-python",
   "name": "python",
   "nbconvert_exporter": "python",
   "pygments_lexer": "ipython3",
   "version": "3.7.4"
  }
 },
 "nbformat": 4,
 "nbformat_minor": 2
}
