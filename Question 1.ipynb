{
 "cells": [
  {
   "cell_type": "markdown",
   "metadata": {},
   "source": [
    "**Preparation and necessary tools**"
   ]
  },
  {
   "cell_type": "code",
   "execution_count": 15,
   "metadata": {},
   "outputs": [],
   "source": [
    "import numpy as np\n",
    "import matplotlib.pyplot as plt\n",
    "%matplotlib inline\n",
    "from scipy.integrate import odeint\n",
    "from dynamics_toolkit import *\n",
    "from Lyapunov import *"
   ]
  },
  {
   "cell_type": "markdown",
   "metadata": {},
   "source": [
    "**Question 1:** Consider \n",
    "$$A = \\begin{pmatrix} 2 & 0 & 1 \\\\ 1 & 2 & 0 \\\\ 0 & 1 & 2 \\end{pmatrix}$$"
   ]
  },
  {
   "cell_type": "code",
   "execution_count": 3,
   "metadata": {},
   "outputs": [],
   "source": [
    "A = np.array([[2, 0, 1], [1, 2, 0], [0, 1, 2]])"
   ]
  },
  {
   "cell_type": "markdown",
   "metadata": {},
   "source": [
    "and the corresponding replicator equation\n",
    "$$\\dot{x} = x_i ((Ax)_i - x^\\top Ax)$$"
   ]
  },
  {
   "cell_type": "markdown",
   "metadata": {},
   "source": [
    "**Part (a)** Determine the NE and ESS points of this system. Draw the indifference lines, and best response regions in the appropriate triangle $\\Delta_3$."
   ]
  },
  {
   "cell_type": "markdown",
   "metadata": {},
   "source": [
    "*Solution:* We first note that $A$ is circulant and non-singular. This indicates $(1/3, 1/3, 1/3)$ is a Nash Equlibrium."
   ]
  },
  {
   "cell_type": "code",
   "execution_count": 4,
   "metadata": {},
   "outputs": [
    {
     "name": "stdout",
     "output_type": "stream",
     "text": [
      "Line Z_01 has equation (1)x_0 + (-2)x_1 + (1)x_2 = 0\n",
      "Line Z_12 has equation (1)x_0 + (1)x_1 + (-2)x_2 = 0\n",
      "Line Z_20 has equation (-2)x_0 + (1)x_1 + (1)x_2 = 0\n"
     ]
    }
   ],
   "source": [
    "Z01 = A[0] - A[1]\n",
    "Z12 = A[1] - A[2]\n",
    "Z20 = A[2] - A[0]\n",
    "\n",
    "print(f\"Line Z_01 has equation ({Z01[0]})x_0 + ({Z01[1]})x_1 + ({Z01[2]})x_2 = 0\")\n",
    "print(f\"Line Z_12 has equation ({Z12[0]})x_0 + ({Z12[1]})x_1 + ({Z12[2]})x_2 = 0\")\n",
    "print(f\"Line Z_20 has equation ({Z20[0]})x_0 + ({Z20[1]})x_1 + ({Z20[2]})x_2 = 0\")"
   ]
  },
  {
   "cell_type": "markdown",
   "metadata": {},
   "source": [
    "It is clear that\n",
    "- $Z_{01}$ intersects $x_0 = 0$ at $(0,1/3,2/3)$ and $x_2 = 0$ at $(2/3,1/3,0)$\n",
    "- $Z_{12}$ intersects $x_0 = 0$ at $(0,2/3,1/3)$ and $x_1 = 0$ at $(2/3,0,1/3)$\n",
    "- $Z_{20}$ intersects $x_1 = 0$ at $(1/3,0,2/3)$ and $x_2 = 0$ at $(1/3,2/3,0)$"
   ]
  },
  {
   "cell_type": "code",
   "execution_count": 5,
   "metadata": {},
   "outputs": [],
   "source": [
    "Z01 = draw_line([0,1/3,2/3], [2/3,1/3,0], 2)\n",
    "Z12 = draw_line([0,2/3,1/3], [2/3,0,1/3], 2)\n",
    "Z20 = draw_line([1/3,0,2/3], [1/3,2/3,0], 2)"
   ]
  },
  {
   "cell_type": "markdown",
   "metadata": {},
   "source": [
    "Now we can draw the in-difference lines."
   ]
  },
  {
   "cell_type": "code",
   "execution_count": 6,
   "metadata": {},
   "outputs": [],
   "source": [
    "PZ01 = proj_3D_simplex(Z01)\n",
    "PZ12 = proj_3D_simplex(Z12)\n",
    "PZ20 = proj_3D_simplex(Z20)"
   ]
  },
  {
   "cell_type": "code",
   "execution_count": 9,
   "metadata": {},
   "outputs": [
    {
     "data": {
      "text/plain": [
       "<matplotlib.legend.Legend at 0x1362ec53a48>"
      ]
     },
     "execution_count": 9,
     "metadata": {},
     "output_type": "execute_result"
    },
    {
     "data": {
      "image/png": "[encoded data removed]",
      "text/plain": [
       "<Figure size 432x288 with 1 Axes>"
      ]
     },
     "metadata": {
      "needs_background": "light"
     },
     "output_type": "display_data"
    }
   ],
   "source": [
    "fig, ax = initial_2D_simplex_figure(vertex_label=False)\n",
    "ax.plot(PZ01[0], PZ01[1], color='blue', linewidth=3, label=\"Z01\")\n",
    "ax.plot(PZ12[0], PZ12[1], color='orange', linewidth=3, label=\"Z12\")\n",
    "ax.plot(PZ20[0], PZ20[1], color='red', linewidth=3, label=\"Z20\")\n",
    "ax.text(-0.8660254-0.2, -0.5 +0.05 , \"$e_0$\",fontsize=12)\n",
    "ax.text(+0.8660254+0.05, -0.5 +0.05 , \"$e_1$\",fontsize=12)\n",
    "ax.text(0-0.03, 1 +0.1 , \"$e_2$\",fontsize=12)\n",
    "ax.legend()"
   ]
  },
  {
   "cell_type": "code",
   "execution_count": null,
   "metadata": {},
   "outputs": [],
   "source": []
  },
  {
   "cell_type": "markdown",
   "metadata": {},
   "source": [
    "To show the best response"
   ]
  },
  {
   "cell_type": "code",
   "execution_count": 37,
   "metadata": {},
   "outputs": [
    {
     "data": {
      "image/png": "[encoded data removed]",
      "text/plain": [
       "<Figure size 432x288 with 1 Axes>"
      ]
     },
     "metadata": {
      "needs_background": "light"
     },
     "output_type": "display_data"
    }
   ],
   "source": [
    "A = np.array([[2,0,1], [1,2,0], [0,1,2]])\n",
    "my_replicator = oneD_replicator(A)\n",
    "x01 = np.array([1/3-0.01, 1/3-0.01, 1/3+0.02])\n",
    "x02 = np.array([1/3+0.01, 1/3-0.01, 1/3])\n",
    "x03 = np.array([1/6, 1/3, 1/2])\n",
    "\n",
    "# compute orbits\n",
    "ts = np.linspace(0,100,10000)\n",
    "xt1 = odeint(my_replicator.replicator, x01, ts)\n",
    "xt2 = odeint(my_replicator.replicator, x02, ts)\n",
    "xt3 = odeint(my_replicator.replicator, x03, ts)\n",
    "\n",
    "# project the orbits on the triangle\n",
    "orbittriangle1=proj_3D_simplex(xt1.T)\n",
    "orbittriangle2=proj_3D_simplex(xt2.T)\n",
    "orbittriangle3=proj_3D_simplex(xt3.T)\n",
    "ic1=proj_3D_simplex(x01)\n",
    "ic2=proj_3D_simplex(x02)\n",
    "ic3=proj_3D_simplex(x03)\n",
    "\n",
    "# setup\n",
    "fig, ax = initial_2D_simplex_figure()\n",
    "\n",
    "# plot the orbits, the initial values, the corner points, and the boundary points\n",
    "ax.plot(orbittriangle1[0],orbittriangle1[1],\".\",markersize=1,color='green')\n",
    "ax.plot(orbittriangle2[0],orbittriangle2[1],\".\",markersize=1,color='red')\n",
    "ax.plot(orbittriangle3[0],orbittriangle3[1],\".\",markersize=1,color='blue')\n",
    "ax.plot(ic1[0],ic1[1],\"+\",markersize=10,color='green')\n",
    "ax.plot(ic2[0],ic2[1],\"+\",markersize=10,color='red')\n",
    "ax.plot(ic3[0],ic3[1],\"+\",markersize=10,color='blue')\n",
    "\n",
    "# add the game matrix in the figure\n",
    "for i in [0,1,2]:\n",
    "    for j in [0,1,2]:\n",
    "        c = A[i][j]\n",
    "        ax.text(0.2*j-0.8, -0.2*i+0.9, str(c))\n",
    "        ax.text(0.3-1.3,0.7,\"A =\")\n",
    "        # plt.text(0-0.03, 1 +0.1 ,A[0,0],A[0,1],A[0,2] ,fontsize=12)"
   ]
  },
  {
   "cell_type": "code",
   "execution_count": 13,
   "metadata": {},
   "outputs": [
    {
     "data": {
      "text/plain": [
       "array([ 0.,  0., -0.])"
      ]
     },
     "execution_count": 13,
     "metadata": {},
     "output_type": "execute_result"
    }
   ],
   "source": [
    "my_replicator.replicator(np.array([2/3,1/3,0]))"
   ]
  },
  {
   "cell_type": "code",
   "execution_count": 31,
   "metadata": {},
   "outputs": [
    {
     "data": {
      "text/plain": [
       "(array([[-1.4901161e-07, -2.0000000e+00, -1.0000001e+00],\n",
       "        [-1.0000001e+00, -1.4901161e-07, -2.0000000e+00],\n",
       "        [-2.0000000e+00, -1.0000001e+00, -1.4901161e-07]], dtype=float32),\n",
       " (array([-1.0000001 +0.j        ,  0.49999997+0.28867513j,\n",
       "          0.49999997-0.28867513j], dtype=complex64),\n",
       "  array([[ 0.57735026+0.j , -0.28867513+0.5j, -0.28867513-0.5j],\n",
       "         [ 0.57735026+0.j ,  0.57735026+0.j ,  0.57735026-0.j ],\n",
       "         [ 0.57735026+0.j , -0.28867513-0.5j, -0.28867513+0.5j]],\n",
       "        dtype=complex64)))"
      ]
     },
     "execution_count": 31,
     "metadata": {},
     "output_type": "execute_result"
    }
   ],
   "source": [
    "jacob = compute_Jacobian(my_replicator.replicator_tensor)\n",
    "jacob([1/3,1/3,1/3]) * 3, np.linalg.eig(jacob([1/3,1/3,1/3]))"
   ]
  },
  {
   "cell_type": "code",
   "execution_count": 32,
   "metadata": {},
   "outputs": [
    {
     "data": {
      "text/plain": [
       "0.0833333306805169"
      ]
     },
     "execution_count": 32,
     "metadata": {},
     "output_type": "execute_result"
    }
   ],
   "source": [
    "(0.28867513 ** 2) * 6"
   ]
  },
  {
   "cell_type": "code",
   "execution_count": 34,
   "metadata": {},
   "outputs": [
    {
     "data": {
      "text/plain": [
       "0.08333333333333333"
      ]
     },
     "execution_count": 34,
     "metadata": {},
     "output_type": "execute_result"
    }
   ],
   "source": [
    "1/12"
   ]
  },
  {
   "cell_type": "code",
   "execution_count": null,
   "metadata": {},
   "outputs": [],
   "source": []
  }
 ],
 "metadata": {
  "kernelspec": {
   "display_name": "Python 3",
   "language": "python",
   "name": "python3"
  },
  "language_info": {
   "codemirror_mode": {
    "name": "ipython",
    "version": 3
   },
   "file_extension": ".py",
   "mimetype": "text/x-python",
   "name": "python",
   "nbconvert_exporter": "python",
   "pygments_lexer": "ipython3",
   "version": "3.7.4"
  }
 },
 "nbformat": 4,
 "nbformat_minor": 2
}
